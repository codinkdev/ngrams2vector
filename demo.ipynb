{
 "cells": [
  {
   "attachments": {},
   "cell_type": "markdown",
   "metadata": {},
   "source": [
    "El código proporciona una implementación de un modelo de \"n-gramas\", que es una técnica utilizada en el procesamiento del lenguaje natural para analizar secuencias de palabras o caracteres en un texto.\n",
    "\n",
    "En particular, este código se enfoca en la generación de n-gramas y su representación como vectores de características para poder realizar comparaciones y cálculos de similitud entre diferentes n-gramas.\n",
    "\n",
    "En general, los modelos de n-gramas se pueden utilizar en diversas aplicaciones, como la clasificación de texto, la corrección ortográfica, la generación de texto predictivo y la detección de plagio. Este código podría ser útil para cualquiera de estas aplicaciones, o para cualquier otra tarea que implique la comparación y análisis de secuencias de texto"
   ]
  },
  {
   "cell_type": "code",
   "execution_count": 1,
   "metadata": {},
   "outputs": [],
   "source": [
    "from ngram import Ngram"
   ]
  },
  {
   "attachments": {},
   "cell_type": "markdown",
   "metadata": {},
   "source": [
    "Este es un código en Python que define una clase llamada Ngram. Esta clase tiene varios métodos para calcular la similitud de n-gramas de palabras. Los n-gramas son subcadenas de longitud n de una cadena dada.\n",
    "\n",
    "####El constructor de la clase acepta tres argumentos:\n",
    "\n",
    "- **word**: La cadena que se va a analizar.\n",
    "- **n**: El valor de n para los n-gramas. El valor predeterminado es 3.\n",
    "- **symbol_count**: La cantidad de símbolos permitidos en la cadena. El valor predeterminado es 27, lo que indica que hay 26 letras del alfabeto inglés y un espacio.\n",
    "\n",
    "####Los siguientes son los métodos de la clase Ngram:\n",
    "\n",
    "- iproduct(self, other): Este método toma otro objeto Ngram como argumento y calcula el producto interno entre los conjuntos de valores enteros (índices) de los n-gramas. Devuelve la cantidad de elementos en la intersección de los dos conjuntos.\n",
    "\n",
    "- **norm(self)**: Este método calcula la norma del vector. La norma del vector es la raíz cuadrada de la suma de los cuadrados de sus elementos. En este caso, los vectores son vectores binarios y la norma se calcula como la raíz cuadrada de la cantidad de elementos distintos de cero en la representación de los n-gramas.\n",
    "\n",
    "- **compare(self, other)**: Este método compara dos objetos Ngram basándose en el producto interno y la norma (distancia coseno).\n",
    "\n",
    "- **ngrams(self, as_value=True)**: Este método genera un conjunto de n-gramas únicos de la palabra limpia de acentos y normalizada (sin repeticiones de n-gramas). El conjunto es representado como un conjunto de valores enteros (índices) de los n-gramas. El índice de un n-grama es calculado como la suma de los valores de los símbolos que lo componen multiplicados por la base (cantidad de símbolos) elevado a la posición del símbolo en el n-grama.\n",
    "\n",
    "- **as_vector(self, n)**: Este método genera un vector de valores flotantes de la secuencia de valores de n-gramas. Cada valor del vector es la representación de un bloque de n bits del vector binario reconstruido a partir del conjunto de valores de valores de n-gramas (ngrams_values)."
   ]
  },
  {
   "cell_type": "markdown",
   "metadata": {},
   "source": [
    "d: La cadena que se va a analizar.\n",
    "n: El valor de n para los n-gramas. El valor predeterminado es 3.\n",
    "symbol_count: La cantidad de símbolos permitidos en la cadena. El valor predeterminado es 27, lo que indica que hay 26 letras del alfabeto inglés y un espacio.\n",
    "El objeto Ngram inicializa varios atributos en el constructor:\n",
    "\n",
    "self.n: El valor de n para los n-gramas.\n",
    "self.word: La cadena que se va a analizar.\n",
    "self.symbol_count: La cantidad de símbolos permitidos en la cadena.\n",
    "self.ngrams_values: Un conjunto de enteros que representan los índices de los n-gramas únicos en la cadena.\n",
    "\n",
    "\n",
    "###Los siguientes son los métodos de la clase Ngram:\n",
    "\n",
    "iproduct(self, other): Este método toma otro objeto Ngram como argumento y calcula el producto interno entre los conjuntos de valores enteros (índices) de los n-gramas. Devuelve la cantidad de elementos en la intersección de los dos conjuntos.\n",
    "norm(self): Este método calcula la norma del vector. La norma del vector es la raíz cuadrada de la suma de los cuadrados de sus elementos. En este caso, los vectores son vectores binarios y la norma se calcula como la raíz cuadrada de la cantidad de elementos distintos de cero en la representación de los n-gramas.\n",
    "compare(self, other): Este método compara dos objetos Ngram basándose en el producto interno y la norma (distancia coseno).\n",
    "ngrams(self, as_value=True): Este método genera un conjunto de n-gramas únicos de la palabra limpia de acentos y normalizada (sin repeticiones de n-gramas). El conjunto es representado como un conjunto de valores enteros (índices) de los n-gramas. El índice de un n-grama es calculado como la suma de los valores de los símbolos que lo componen multiplicados por la base (cantidad de símbolos) elevado a la posición del símbolo en el n-grama.\n",
    "as_vector(self, n): Este método genera un vector de valores flotantes de la secuencia de valores de n-gramas. Cada valor del vector es la representación de un bloque de n bits del vector binario reconstruido a partir del conjunto de valores de valores de n-gramas (ngrams_values)."
   ]
  },
  {
   "cell_type": "code",
   "execution_count": 2,
   "metadata": {},
   "outputs": [],
   "source": [
    "name1 = \"Lautaro Julián Matas\"\n",
    "name2 = \"Matas Lautaro Julián \"\n",
    "name3 = \"Joaquín Ratta Laureano\""
   ]
  },
  {
   "cell_type": "code",
   "execution_count": 3,
   "metadata": {},
   "outputs": [
    {
     "name": "stdout",
     "output_type": "stream",
     "text": [
      "Similitud entre Lautaro Julián Matas y Matas Lautaro Julián  : 0.8651809126974003\n",
      "Similitud entre Lautaro Julián Matas y Joaquín Ratta Laureano : 0.05270462766947299\n"
     ]
    }
   ],
   "source": [
    "trigram1 = Ngram(name1, 3)\n",
    "trigram2 = Ngram(name2, 3)\n",
    "trigram3 = Ngram(name3, 3)\n",
    "\n",
    "print(\"Similitud entre\", name1, \"y\", name2, \":\", trigram1.compare(trigram2))\n",
    "print(\"Similitud entre\", name1, \"y\", name3, \":\", trigram1.compare(trigram3))"
   ]
  },
  {
   "cell_type": "code",
   "execution_count": 4,
   "metadata": {},
   "outputs": [
    {
     "name": "stdout",
     "output_type": "stream",
     "text": [
      "Similitud entre Lautaro Julián Matas y Matas Lautaro Julián  : 0.9192547197409877\n",
      "Similitud entre Lautaro Julián Matas y Joaquín Ratta Laureano : 0.3086066999241839\n"
     ]
    }
   ],
   "source": [
    "bigram1 = Ngram(name1, 2)\n",
    "bigram2 = Ngram(name2, 2)\n",
    "bigram3 = Ngram(name3, 2)\n",
    "\n",
    "print(\"Similitud entre\", name1, \"y\", name2, \":\", bigram1.compare(bigram2))\n",
    "print(\"Similitud entre\", name1, \"y\", name3, \":\", bigram1.compare(bigram3))"
   ]
  },
  {
   "cell_type": "code",
   "execution_count": 5,
   "metadata": {},
   "outputs": [
    {
     "name": "stdout",
     "output_type": "stream",
     "text": [
      "vector length: 183\n",
      "vector length: 183\n",
      "vector length: 183\n",
      "Similitud entre Lautaro Julián Matas y Matas Lautaro Julián  : 0.9627444424437364\n",
      "Similitud entre Lautaro Julián Matas y Joaquín Ratta Laureano : 0.49762298806791294\n"
     ]
    }
   ],
   "source": [
    "block_size = 4\n",
    "\n",
    "vector1 = bigram1.as_vector(block_size)\n",
    "vector2 = bigram2.as_vector(block_size)\n",
    "vector3 = bigram3.as_vector(block_size)\n",
    "\n",
    "print(\"Similitud entre\", name1, \"y\", name2, \":\", vector1.dot(vector2))\n",
    "print(\"Similitud entre\", name1, \"y\", name3, \":\", vector1.dot(vector3))\n"
   ]
  },
  {
   "cell_type": "code",
   "execution_count": 6,
   "metadata": {},
   "outputs": [
    {
     "name": "stdout",
     "output_type": "stream",
     "text": [
      "vector length: 2461\n",
      "vector length: 2461\n",
      "vector length: 2461\n",
      "Similitud entre Lautaro Julián Matas y Matas Lautaro Julián  : 0.8049671335907912\n",
      "Similitud entre Lautaro Julián Matas y Joaquín Ratta Laureano : 0.005277808825509006\n"
     ]
    }
   ],
   "source": [
    "block_size = 8\n",
    "\n",
    "vector1 = trigram1.as_vector(block_size)\n",
    "vector2 = trigram2.as_vector(block_size)\n",
    "vector3 = trigram3.as_vector(block_size)\n",
    "\n",
    "print(\"Similitud entre\", name1, \"y\", name2, \":\", vector1.dot(vector2))\n",
    "print(\"Similitud entre\", name1, \"y\", name3, \":\", vector1.dot(vector3))"
   ]
  }
 ],
 "metadata": {
  "kernelspec": {
   "display_name": "Python 3",
   "language": "python",
   "name": "python3"
  },
  "language_info": {
   "codemirror_mode": {
    "name": "ipython",
    "version": 3
   },
   "file_extension": ".py",
   "mimetype": "text/x-python",
   "name": "python",
   "nbconvert_exporter": "python",
   "pygments_lexer": "ipython3",
   "version": "3.11.2"
  },
  "orig_nbformat": 4
 },
 "nbformat": 4,
 "nbformat_minor": 2
}
