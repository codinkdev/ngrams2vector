{
 "cells": [
  {
   "cell_type": "code",
   "execution_count": 6,
   "metadata": {},
   "outputs": [],
   "source": [
    "from ngram import Ngram"
   ]
  },
  {
   "cell_type": "code",
   "execution_count": 7,
   "metadata": {},
   "outputs": [],
   "source": [
    "name1 = \"Julio Raffo, Lautaro Matas\"\n",
    "name2 = \"Julio Raffo, Lautaro Julián Matas\"\n",
    "name3 = \"Joquian Ratta, Julián Aberto Martin\""
   ]
  },
  {
   "cell_type": "code",
   "execution_count": 8,
   "metadata": {},
   "outputs": [
    {
     "name": "stdout",
     "output_type": "stream",
     "text": [
      "Similitud entre Julio Raffo, Lautaro Matas y Julio Raffo, Lautaro Julián Matas : 0.8669214468630108\n",
      "Similitud entre Julio Raffo, Lautaro Matas y Joquian Ratta, Julián Aberto Martin : 0.19034674690672027\n"
     ]
    }
   ],
   "source": [
    "trigram1 = Ngram(name1, 3)\n",
    "trigram2 = Ngram(name2, 3)\n",
    "trigram3 = Ngram(name3, 3)\n",
    "\n",
    "print(\"Similitud entre\", name1, \"y\", name2, \":\", trigram1.compare(trigram2))\n",
    "print(\"Similitud entre\", name1, \"y\", name3, \":\", trigram1.compare(trigram3))"
   ]
  },
  {
   "cell_type": "code",
   "execution_count": 9,
   "metadata": {},
   "outputs": [
    {
     "name": "stdout",
     "output_type": "stream",
     "text": [
      "Similitud entre Julio Raffo, Lautaro Matas y Julio Raffo, Lautaro Julián Matas : 0.9165151389911681\n",
      "Similitud entre Julio Raffo, Lautaro Matas y Joquian Ratta, Julián Aberto Martin : 0.44574249416020933\n"
     ]
    }
   ],
   "source": [
    "bigram1 = Ngram(name1, 2)\n",
    "bigram2 = Ngram(name2, 2)\n",
    "bigram3 = Ngram(name3, 2)\n",
    "\n",
    "print(\"Similitud entre\", name1, \"y\", name2, \":\", bigram1.compare(bigram2))\n",
    "print(\"Similitud entre\", name1, \"y\", name3, \":\", bigram1.compare(bigram3))"
   ]
  },
  {
   "cell_type": "code",
   "execution_count": 10,
   "metadata": {},
   "outputs": [
    {
     "name": "stdout",
     "output_type": "stream",
     "text": [
      "vector length: 183\n",
      "vector length: 183\n",
      "vector length: 183\n",
      "Similitud entre Julio Raffo, Lautaro Matas y Julio Raffo, Lautaro Julián Matas : 0.9233614216047111\n",
      "Similitud entre Julio Raffo, Lautaro Matas y Joquian Ratta, Julián Aberto Martin : 0.40723341383694306\n"
     ]
    }
   ],
   "source": [
    "block_size = 4\n",
    "\n",
    "vector1 = bigram1.as_vector(block_size)\n",
    "vector2 = bigram2.as_vector(block_size)\n",
    "vector3 = bigram3.as_vector(block_size)\n",
    "\n",
    "print(\"Similitud entre\", name1, \"y\", name2, \":\", vector1.dot(vector2))\n",
    "print(\"Similitud entre\", name1, \"y\", name3, \":\", vector1.dot(vector3))\n"
   ]
  },
  {
   "cell_type": "code",
   "execution_count": null,
   "metadata": {},
   "outputs": [],
   "source": []
  }
 ],
 "metadata": {
  "kernelspec": {
   "display_name": "Python 3",
   "language": "python",
   "name": "python3"
  },
  "language_info": {
   "codemirror_mode": {
    "name": "ipython",
    "version": 3
   },
   "file_extension": ".py",
   "mimetype": "text/x-python",
   "name": "python",
   "nbconvert_exporter": "python",
   "pygments_lexer": "ipython3",
   "version": "3.11.2"
  },
  "orig_nbformat": 4
 },
 "nbformat": 4,
 "nbformat_minor": 2
}
