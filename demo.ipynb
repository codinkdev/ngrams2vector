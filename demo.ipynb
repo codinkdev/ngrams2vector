{
 "cells": [
  {
   "cell_type": "code",
   "execution_count": 67,
   "metadata": {},
   "outputs": [],
   "source": [
    "from trigram import Ngram, generate_ngrams, generate_normalized_vector"
   ]
  },
  {
   "cell_type": "code",
   "execution_count": 68,
   "metadata": {},
   "outputs": [],
   "source": [
    "name1 = \"Julio Raffo, Lautaro Matas\"\n",
    "name2 = \"Julio Raffo, Lautaro Julián Matas\"\n",
    "\n",
    "#name2 = \"Julio Gabriel Raffo, Lautaro Julían Matas\"\n",
    "name3 = \"Joquian Ratta, Julián Aberto Martin\""
   ]
  },
  {
   "cell_type": "code",
   "execution_count": 69,
   "metadata": {},
   "outputs": [
    {
     "name": "stdout",
     "output_type": "stream",
     "text": [
      "Similitud entre Julio Raffo, Lautaro Matas y Julio Raffo, Lautaro Julián Matas : 0.9071147352221454\n",
      "Similitud entre Julio Raffo, Lautaro Matas y Joquian Ratta, Julián Aberto Martin : 0.21213203435596426\n"
     ]
    }
   ],
   "source": [
    "trigram1 = Ngram(name1, 3)\n",
    "trigram2 = Ngram(name2, 3)\n",
    "trigram3 = Ngram(name3, 3)\n",
    "\n",
    "print(\"Similitud entre\", name1, \"y\", name2, \":\", trigram1.compare(trigram2))\n",
    "print(\"Similitud entre\", name1, \"y\", name3, \":\", trigram1.compare(trigram3))"
   ]
  },
  {
   "cell_type": "code",
   "execution_count": 70,
   "metadata": {},
   "outputs": [
    {
     "name": "stdout",
     "output_type": "stream",
     "text": [
      "Similitud entre Julio Raffo, Lautaro Matas y Julio Raffo, Lautaro Julián Matas : 0.9591663046625439\n",
      "Similitud entre Julio Raffo, Lautaro Matas y Joquian Ratta, Julián Aberto Martin : 0.4646418555974199\n"
     ]
    }
   ],
   "source": [
    "bigram1 = Ngram(name1, 2)\n",
    "bigram2 = Ngram(name2, 2)\n",
    "bigram3 = Ngram(name3, 2)\n",
    "\n",
    "print(\"Similitud entre\", name1, \"y\", name2, \":\", bigram1.compare(bigram2))\n",
    "print(\"Similitud entre\", name1, \"y\", name3, \":\", bigram1.compare(bigram3))"
   ]
  },
  {
   "cell_type": "code",
   "execution_count": 77,
   "metadata": {},
   "outputs": [
    {
     "name": "stdout",
     "output_type": "stream",
     "text": [
      "2461\n",
      "2461\n",
      "2461\n",
      "Similitud entre Julio Raffo, Lautaro Matas y Julio Raffo, Lautaro Julián Matas : 0.9547852757084733\n",
      "Similitud entre Julio Raffo, Lautaro Matas y Joquian Ratta, Julián Aberto Martin : 0.33091510083860154\n"
     ]
    }
   ],
   "source": [
    "block_size = 8\n",
    "n = 3\n",
    "ngrams1 = generate_ngrams(name1, n)\n",
    "ngrams2 = generate_ngrams(name2, n)\n",
    "ngrams3 = generate_ngrams(name3, n)\n",
    "\n",
    "vector1 = generate_normalized_vector(ngrams1, 27**3, block_size)\n",
    "vector2 = generate_normalized_vector(ngrams2, 27**3, block_size)\n",
    "vector3 = generate_normalized_vector(ngrams3, 27**3, block_size)\n",
    "\n",
    "print(\"Similitud entre\", name1, \"y\", name2, \":\", vector1.dot(vector2))\n",
    "print(\"Similitud entre\", name1, \"y\", name3, \":\", vector1.dot(vector3))\n"
   ]
  },
  {
   "cell_type": "code",
   "execution_count": null,
   "metadata": {},
   "outputs": [],
   "source": []
  }
 ],
 "metadata": {
  "kernelspec": {
   "display_name": "Python 3",
   "language": "python",
   "name": "python3"
  },
  "language_info": {
   "codemirror_mode": {
    "name": "ipython",
    "version": 3
   },
   "file_extension": ".py",
   "mimetype": "text/x-python",
   "name": "python",
   "nbconvert_exporter": "python",
   "pygments_lexer": "ipython3",
   "version": "3.11.2"
  },
  "orig_nbformat": 4
 },
 "nbformat": 4,
 "nbformat_minor": 2
}
