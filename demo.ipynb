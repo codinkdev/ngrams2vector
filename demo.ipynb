{
 "cells": [
  {
   "cell_type": "code",
   "execution_count": 1,
   "metadata": {},
   "outputs": [],
   "source": [
    "from ngram import Ngram"
   ]
  },
  {
   "cell_type": "code",
   "execution_count": 2,
   "metadata": {},
   "outputs": [],
   "source": [
    "name1 = \"Lautaro Julián Matas\"\n",
    "name2 = \"Matas Lautaro Julián \"\n",
    "name3 = \"Joaquín Ratta Laureano\""
   ]
  },
  {
   "cell_type": "code",
   "execution_count": 3,
   "metadata": {},
   "outputs": [
    {
     "name": "stdout",
     "output_type": "stream",
     "text": [
      "Similitud entre Lautaro Julián Matas y Matas Lautaro Julián  : 0.8651809126974003\n",
      "Similitud entre Lautaro Julián Matas y Joaquín Ratta Laureano : 0.05270462766947299\n"
     ]
    }
   ],
   "source": [
    "trigram1 = Ngram(name1, 3)\n",
    "trigram2 = Ngram(name2, 3)\n",
    "trigram3 = Ngram(name3, 3)\n",
    "\n",
    "print(\"Similitud entre\", name1, \"y\", name2, \":\", trigram1.compare(trigram2))\n",
    "print(\"Similitud entre\", name1, \"y\", name3, \":\", trigram1.compare(trigram3))"
   ]
  },
  {
   "cell_type": "code",
   "execution_count": 4,
   "metadata": {},
   "outputs": [
    {
     "name": "stdout",
     "output_type": "stream",
     "text": [
      "Similitud entre Lautaro Julián Matas y Matas Lautaro Julián  : 0.9192547197409877\n",
      "Similitud entre Lautaro Julián Matas y Joaquín Ratta Laureano : 0.3086066999241839\n"
     ]
    }
   ],
   "source": [
    "bigram1 = Ngram(name1, 2)\n",
    "bigram2 = Ngram(name2, 2)\n",
    "bigram3 = Ngram(name3, 2)\n",
    "\n",
    "print(\"Similitud entre\", name1, \"y\", name2, \":\", bigram1.compare(bigram2))\n",
    "print(\"Similitud entre\", name1, \"y\", name3, \":\", bigram1.compare(bigram3))"
   ]
  },
  {
   "cell_type": "code",
   "execution_count": 5,
   "metadata": {},
   "outputs": [
    {
     "name": "stdout",
     "output_type": "stream",
     "text": [
      "vector length: 183\n",
      "vector length: 183\n",
      "vector length: 183\n",
      "Similitud entre Lautaro Julián Matas y Matas Lautaro Julián  : 0.9627444424437364\n",
      "Similitud entre Lautaro Julián Matas y Joaquín Ratta Laureano : 0.49762298806791294\n"
     ]
    }
   ],
   "source": [
    "block_size = 4\n",
    "\n",
    "vector1 = bigram1.as_vector(block_size)\n",
    "vector2 = bigram2.as_vector(block_size)\n",
    "vector3 = bigram3.as_vector(block_size)\n",
    "\n",
    "print(\"Similitud entre\", name1, \"y\", name2, \":\", vector1.dot(vector2))\n",
    "print(\"Similitud entre\", name1, \"y\", name3, \":\", vector1.dot(vector3))\n"
   ]
  },
  {
   "cell_type": "code",
   "execution_count": 6,
   "metadata": {},
   "outputs": [
    {
     "name": "stdout",
     "output_type": "stream",
     "text": [
      "vector length: 2461\n",
      "vector length: 2461\n",
      "vector length: 2461\n",
      "Similitud entre Lautaro Julián Matas y Matas Lautaro Julián  : 0.8049671335907912\n",
      "Similitud entre Lautaro Julián Matas y Joaquín Ratta Laureano : 0.005277808825509006\n"
     ]
    }
   ],
   "source": [
    "block_size = 8\n",
    "\n",
    "vector1 = trigram1.as_vector(block_size)\n",
    "vector2 = trigram2.as_vector(block_size)\n",
    "vector3 = trigram3.as_vector(block_size)\n",
    "\n",
    "print(\"Similitud entre\", name1, \"y\", name2, \":\", vector1.dot(vector2))\n",
    "print(\"Similitud entre\", name1, \"y\", name3, \":\", vector1.dot(vector3))"
   ]
  }
 ],
 "metadata": {
  "kernelspec": {
   "display_name": "Python 3",
   "language": "python",
   "name": "python3"
  },
  "language_info": {
   "codemirror_mode": {
    "name": "ipython",
    "version": 3
   },
   "file_extension": ".py",
   "mimetype": "text/x-python",
   "name": "python",
   "nbconvert_exporter": "python",
   "pygments_lexer": "ipython3",
   "version": "3.11.2"
  },
  "orig_nbformat": 4
 },
 "nbformat": 4,
 "nbformat_minor": 2
}
